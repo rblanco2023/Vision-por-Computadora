{
 "cells": [
  {
   "cell_type": "markdown",
   "id": "aa5ea772",
   "metadata": {},
   "source": [
    "Para la imagen suministrada “eyes” (por ninguna razón en especial, con heterocromía), implementar un algoritmo que:\n",
    "1. Encuentre la posición de los iris en cada par de ojos y mida su distancia en píxeles.\n",
    "\n",
    "2. Encuentre la posición de las pupilas en cada par de ojos y mida su distancia en píxeles."
   ]
  },
  {
   "cell_type": "code",
   "execution_count": 1,
   "id": "0935c6f4",
   "metadata": {},
   "outputs": [],
   "source": [
    "#Si queremos que las imágenes sean mostradas en una ventana emergente quitar el inline\n",
    "%matplotlib inline\n",
    "\n",
    "# OpenCV-Python utiliza NumPy para el manejo de imágenes\n",
    "import numpy as np\n",
    "# cv2 es el módulo python para acceder a OpenCV \n",
    "import cv2 as cv\n",
    "# Usamos las poderosas herramientas de graficación de matplotlib para mostrar imágenes, perfiles, histogramas, etc\n",
    "import matplotlib.pyplot as plt"
   ]
  },
  {
   "cell_type": "code",
   "execution_count": 2,
   "id": "bbcc489a",
   "metadata": {},
   "outputs": [],
   "source": [
    "img = cv.imread('/home/raul/Documentos/UBA/Visión por computadora 1/Clase 4/TP3/eyes.jpg')\n",
    "img_gray=cv.cvtColor(img,cv.COLOR_BGR2GRAY)"
   ]
  },
  {
   "cell_type": "code",
   "execution_count": 3,
   "id": "39c92707",
   "metadata": {},
   "outputs": [],
   "source": [
    "img_gray_suave=cv.medianBlur(img_gray,3) # puede ser 3, 5, 7"
   ]
  },
  {
   "cell_type": "code",
   "execution_count": 4,
   "id": "c18d7c49",
   "metadata": {},
   "outputs": [],
   "source": [
    "cv.imshow('eyes',img_gray)\n",
    "cv.waitKey(0)\n",
    "cv.destroyAllWindows()"
   ]
  },
  {
   "cell_type": "code",
   "execution_count": 5,
   "id": "d510143c",
   "metadata": {},
   "outputs": [
    {
     "name": "stdout",
     "output_type": "stream",
     "text": [
      "Distancia  1  en pixeles entre iris =  307\n",
      "Distancia  2  en pixeles entre iris =  306\n",
      "Distancia  3  en pixeles entre iris =  338\n",
      "Distancia  4  en pixeles entre iris =  340\n"
     ]
    }
   ],
   "source": [
    "# Iris\n",
    "img=img.copy()\n",
    "pupilas=img.copy()\n",
    "circulos =cv.HoughCircles(img_gray,cv.HOUGH_GRADIENT,1.21,minDist=45,param1=110,param2=25,minRadius=30,maxRadius=32)\n",
    "circulos=np.uint16(np.around(circulos))\n",
    "\n",
    "for a in circulos[0,:]:\n",
    "    cv.circle(img,(a[0],a[1]),a[2],(0,0,255),2) #circulo alrededor de la pupila\n",
    "    cv.circle(img,(a[0],a[1]),2,(255,0,0),3) #punto en centro de pupila\n",
    "\n",
    "\n",
    "#Distancia entre Iris\n",
    "distancia=[]\n",
    "circulos = circulos.reshape(8,3).astype('int')\n",
    "circulos_coordenadas=circulos[circulos[:,1].argsort()]\n",
    "circulos_coordenadas=np.delete(circulos_coordenadas,2,axis=1)\n",
    "j=0\n",
    "for a in range(0,circulos_coordenadas.shape[0],2):\n",
    "    distancia.append(np.sqrt(np.sum(circulos_coordenadas[a+1]-circulos_coordenadas[a])**2))\n",
    "    print('Distancia ', j+1, ' en pixeles entre iris = ', distancia[j].astype('int'))\n",
    "    j=j+1\n",
    "    \n",
    "cv.imshow('circulos',img)\n",
    "cv.waitKey(0)\n",
    "cv.destroyAllWindows()"
   ]
  },
  {
   "cell_type": "code",
   "execution_count": 6,
   "id": "36b2ff57",
   "metadata": {},
   "outputs": [
    {
     "name": "stdout",
     "output_type": "stream",
     "text": [
      "Distancia  1  en pixeles entre pupilas =  302\n",
      "Distancia  2  en pixeles entre pupilas =  309\n",
      "Distancia  3  en pixeles entre pupilas =  170\n",
      "Distancia  4  en pixeles entre pupilas =  245\n"
     ]
    }
   ],
   "source": [
    "#Pupila\n",
    "circulos_pupila = cv.HoughCircles(img_gray,cv.HOUGH_GRADIENT,1.2408,minDist=80,param1=80,param2=24,minRadius=9,maxRadius=15)\n",
    "circulos_pupila = np.uint16(np.around(circulos_pupila))\n",
    "for b in circulos_pupila[0,:]:\n",
    "    cv.circle(pupilas,(b[0],b[1]),b[2],(0,0,255),1) #circulo alrededor de la pupila\n",
    "    cv.circle(pupilas,(b[0],b[1]),2,(255,0,0),3) #punto en centro de pupila\n",
    "\n",
    "#Distancia entre pupilas\n",
    "distancia=[]\n",
    "circulos_pupila = circulos_pupila.reshape(9,3).astype('int')\n",
    "circulos_coordenadas=circulos_pupila[circulos_pupila[:,1].argsort()]\n",
    "circulos_coordenadas=np.delete(circulos_coordenadas,2,axis=1)\n",
    "j=0\n",
    "for a in range(0,circulos_coordenadas.shape[0]-1,2): #tuve que sacarle 1 para evitar que uno ojo quede solo...\n",
    "    distancia.append(np.sqrt(np.sum(circulos_coordenadas[a+1]-circulos_coordenadas[a])**2))\n",
    "    print('Distancia ', j+1, ' en pixeles entre pupilas = ', distancia[j].astype('int'))\n",
    "    j=j+1\n",
    "    \n",
    "cv.imshow('circulos_pupilas',pupilas)\n",
    "cv.waitKey(0)\n",
    "cv.destroyAllWindows()"
   ]
  },
  {
   "cell_type": "code",
   "execution_count": null,
   "id": "b14e4384",
   "metadata": {},
   "outputs": [],
   "source": []
  }
 ],
 "metadata": {
  "kernelspec": {
   "display_name": "Python 3",
   "language": "python",
   "name": "python3"
  },
  "language_info": {
   "codemirror_mode": {
    "name": "ipython",
    "version": 3
   },
   "file_extension": ".py",
   "mimetype": "text/x-python",
   "name": "python",
   "nbconvert_exporter": "python",
   "pygments_lexer": "ipython3",
   "version": "3.8.8"
  }
 },
 "nbformat": 4,
 "nbformat_minor": 5
}
