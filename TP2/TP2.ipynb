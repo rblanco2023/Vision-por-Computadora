{
 "cells": [
  {
   "cell_type": "markdown",
   "metadata": {},
   "source": [
    "Para la imagen suministrada “metal grid”. Implementar un algoritmo que:\n",
    "1. Calcule los gradientes en la imagen (dirección y módulo)\n",
    "2. Muestre imágenes de ángulo y módulo\n",
    "3. Marque con color las direcciones de gradientes más altos"
   ]
  },
  {
   "cell_type": "code",
   "execution_count": 1,
   "metadata": {},
   "outputs": [],
   "source": [
    "import numpy as np\n",
    "import cv2 as cv\n",
    "import matplotlib.pyplot as plt\n",
    "%matplotlib inline"
   ]
  },
  {
   "cell_type": "markdown",
   "metadata": {},
   "source": [
    "Se aplica detector de bordes de Canny"
   ]
  },
  {
   "cell_type": "code",
   "execution_count": 2,
   "metadata": {},
   "outputs": [],
   "source": [
    "imagen = cv.imread('metalgrid.jpg')\n",
    "gray = cv.cvtColor(imagen, cv.COLOR_BGR2GRAY)"
   ]
  },
  {
   "cell_type": "markdown",
   "metadata": {},
   "source": [
    "Reducción de ruido"
   ]
  },
  {
   "cell_type": "code",
   "execution_count": 3,
   "metadata": {},
   "outputs": [],
   "source": [
    "GBlur = cv.GaussianBlur(gray,(7,7),0)"
   ]
  },
  {
   "cell_type": "markdown",
   "metadata": {},
   "source": [
    "Gradiente de intensidad de la imagen"
   ]
  },
  {
   "cell_type": "code",
   "execution_count": 4,
   "metadata": {},
   "outputs": [],
   "source": [
    "# Orientación x\n",
    "Sobelx64 = cv.Sobel(GBlur,cv.CV_32F,1,0,ksize=5) \n",
    "Absolutex = np.absolute(Sobelx64)\n",
    "Sobelx_u1 = (Absolutex/Absolutex.max())*255\n",
    "Sobelx = np.uint8(Sobelx_u1)\n",
    "\n",
    "#Sobely\n",
    "Sobely64 = cv.Sobel(GBlur,cv.CV_32F,0,1,ksize=5) \n",
    "Absolutey = np.absolute(Sobely64)\n",
    "Sobely_u1 = (Absolutey/Absolutey.max())*255\n",
    "Sobely= np.uint8(Sobely_u1)"
   ]
  },
  {
   "cell_type": "markdown",
   "metadata": {},
   "source": [
    "Magnitud"
   ]
  },
  {
   "cell_type": "code",
   "execution_count": 5,
   "metadata": {},
   "outputs": [],
   "source": [
    "magnitud = np.hypot(Sobelx, Sobely)\n",
    "magnitud = (magnitud/magnitud.max())*255\n",
    "magnitud = np.uint8(magnitud)"
   ]
  },
  {
   "cell_type": "markdown",
   "metadata": {},
   "source": [
    "Dirección"
   ]
  },
  {
   "cell_type": "code",
   "execution_count": 6,
   "metadata": {},
   "outputs": [],
   "source": [
    "tita = np.arctan2(Sobely64, Sobelx64)\n",
    "angulo = np.rad2deg(tita)"
   ]
  },
  {
   "cell_type": "markdown",
   "metadata": {},
   "source": [
    "Supresión de no máximos"
   ]
  },
  {
   "cell_type": "code",
   "execution_count": 7,
   "metadata": {},
   "outputs": [
    {
     "name": "stdout",
     "output_type": "stream",
     "text": [
      "Magnitud máxima:  255\n",
      "Magnitud mínima:  0\n"
     ]
    }
   ],
   "source": [
    "print(\"Magnitud máxima: \", magnitud.max())\n",
    "print(\"Magnitud mínima: \", magnitud.min())"
   ]
  },
  {
   "cell_type": "code",
   "execution_count": 8,
   "metadata": {},
   "outputs": [],
   "source": [
    "columnas = np.argwhere((magnitud >= 240) & (magnitud <= 255))  "
   ]
  },
  {
   "cell_type": "markdown",
   "metadata": {},
   "source": [
    "Miremos las imágenes:"
   ]
  },
  {
   "cell_type": "code",
   "execution_count": 9,
   "metadata": {},
   "outputs": [],
   "source": [
    "cv.imshow(\"Angulo\",angulo)\n",
    "cv.waitKey(0)\n",
    "cv.destroyAllWindows()"
   ]
  },
  {
   "cell_type": "code",
   "execution_count": 10,
   "metadata": {},
   "outputs": [],
   "source": [
    "cv.imshow(\"Magnitud\",magnitud)\n",
    "cv.waitKey(0)\n",
    "cv.destroyAllWindows()"
   ]
  },
  {
   "cell_type": "code",
   "execution_count": null,
   "metadata": {},
   "outputs": [],
   "source": [
    "for a in columnas:\n",
    "    cv.circle(imagen,(a[1],a[0]),2,(255,0,255),1)\n",
    "cv.imshow('circulos',imagen)\n",
    "cv.waitKey(0)\n",
    "cv.destroyAllWindows()"
   ]
  }
 ],
 "metadata": {
  "interpreter": {
   "hash": "8902666785a222cf92b226eff8244edf7d4f319935d3be968ad07ffd2288ff14"
  },
  "kernelspec": {
   "display_name": "Python 3",
   "language": "python",
   "name": "python3"
  },
  "language_info": {
   "codemirror_mode": {
    "name": "ipython",
    "version": 3
   },
   "file_extension": ".py",
   "mimetype": "text/x-python",
   "name": "python",
   "nbconvert_exporter": "python",
   "pygments_lexer": "ipython3",
   "version": "3.8.8"
  }
 },
 "nbformat": 4,
 "nbformat_minor": 2
}
