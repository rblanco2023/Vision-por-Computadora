{
 "cells": [
  {
   "cell_type": "code",
   "execution_count": 10,
   "id": "eee4b811",
   "metadata": {},
   "outputs": [],
   "source": [
    "import cv2 as cv\n",
    "import numpy as np"
   ]
  },
  {
   "cell_type": "code",
   "execution_count": 7,
   "id": "175977ed",
   "metadata": {},
   "outputs": [
    {
     "name": "stdout",
     "output_type": "stream",
     "text": [
      "(360, 640, 3)\n"
     ]
    }
   ],
   "source": [
    "filename = 'gym.mp4'\n",
    "capture = cv.VideoCapture(filename)\n",
    "ret, frame = capture.read()  \n",
    "while(ret):\n",
    "\n",
    "    ret, frame = capture.read()  \n",
    "    if frame is None:\n",
    "        break\n",
    "    cv.imshow('Gym', frame)\n",
    "    if cv.waitKey(10) & 0xFF == ord('q'):\n",
    "        break  \n",
    "cv.destroyAllWindows()\n",
    "capture.release()"
   ]
  },
  {
   "cell_type": "code",
   "execution_count": 15,
   "id": "7421aeef",
   "metadata": {},
   "outputs": [],
   "source": [
    "filename = 'gym.mp4'\n",
    "#Declaro variables auxiliares\n",
    "cuadros = []\n",
    "a = 0\n",
    "b = 1\n",
    "tiempo = 1.1\n",
    "media = 15\n",
    "capture = cv.VideoCapture(filename)\n",
    "salida = cv.VideoWriter('videoSalida.avi',cv.VideoWriter_fourcc(*'XVID'),20.0,(360,640)) \n",
    "cap = cv.VideoCapture(0)\n",
    "if not capture.isOpened:\n",
    "    print('Error: ' + filename)\n",
    "    exit(0)\n",
    "t_nuevo = tiempo * 10\n",
    "ret, frame = capture.read()\n",
    "while (ret):\n",
    "    ret, frame = capture.read()\n",
    "    cuadros.append(frame)\n",
    "    \n",
    "    if frame is None:\n",
    "        break\n",
    "    if (a % t_nuevo) == 0 and (a > 1):\n",
    "        frameIds = np.random.randint(a, size = media)\n",
    "        frames_aux = []\n",
    "        for fid in frameIds:\n",
    "            frames_aux.append(cuadros[fid])\n",
    "        medianFrame = np.median(frames_aux, axis=0).astype(dtype=np.uint8)\n",
    "        grayMedianFrame = cv.cvtColor(medianFrame, cv.COLOR_BGR2GRAY)\n",
    "        b = b + 1\n",
    "    if b > 1:\n",
    "        frame = cv.cvtColor(frame, cv.COLOR_BGR2GRAY)\n",
    "        frame_diff = cv.absdiff(frame, grayMedianFrame)\n",
    "        th, frame_diff = cv.threshold(frame_diff, 70, 255, cv.THRESH_BINARY)\n",
    "        salida.write(frame_diff)\n",
    "        cv.imshow('Frame', frame_diff)\n",
    "\n",
    "    # Control con teclas\n",
    "    if cv.waitKey(10) & 0xFF == ord('q'):\n",
    "        break  \n",
    "        \n",
    "    a = a + 1\n",
    "\n",
    "capture.release()\n",
    "salida.release()\n",
    "cv.destroyAllWindows()"
   ]
  }
 ],
 "metadata": {
  "kernelspec": {
   "display_name": "Python 3",
   "language": "python",
   "name": "python3"
  },
  "language_info": {
   "codemirror_mode": {
    "name": "ipython",
    "version": 3
   },
   "file_extension": ".py",
   "mimetype": "text/x-python",
   "name": "python",
   "nbconvert_exporter": "python",
   "pygments_lexer": "ipython3",
   "version": "3.8.8"
  }
 },
 "nbformat": 4,
 "nbformat_minor": 5
}
